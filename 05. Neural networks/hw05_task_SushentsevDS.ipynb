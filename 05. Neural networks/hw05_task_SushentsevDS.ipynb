{
 "cells": [
  {
   "cell_type": "markdown",
   "metadata": {
    "id": "9Qp0H_zUQuu_"
   },
   "source": [
    "# Нейронные сети\n",
    "__Суммарное количество баллов: 10__\n",
    "\n",
    "__Решение отправлять на `ml.course.practice@gmail.com`__\n",
    "\n",
    "__Тема письма: `[ML][HW05] <ФИ>`, где вместо `<ФИ>` указаны фамилия и имя__\n",
    "\n",
    "Для начала вам предстоит реализовать свой собственный backpropagation и протестировать его на реальных данных, а затем научиться обучать нейронные сети при помощи библиотеки `PyTorch` и использовать это умение для классификации классического набора данных CIFAR10."
   ]
  },
  {
   "cell_type": "code",
   "execution_count": 1,
   "metadata": {
    "id": "22ezVRf3QuvA"
   },
   "outputs": [],
   "source": [
    "import numpy as np\n",
    "import copy\n",
    "from sklearn.datasets import make_blobs, make_moons\n",
    "from typing import List, NoReturn"
   ]
  },
  {
   "cell_type": "markdown",
   "metadata": {
    "id": "4qfDPH_LQuvF"
   },
   "source": [
    "### Задание 1 (3 балла)\n",
    "Нейронные сети состоят из слоев, поэтому для начала понадобится реализовать их. Пока нам понадобятся только три:\n",
    "\n",
    "`Linear` - полносвязный слой, в котором `y = Wx + b`, где `y` - выход, `x` - вход, `W` - матрица весов, а `b` - смещение. \n",
    "\n",
    "`ReLU` - слой, соответствующий функции активации `y = max(0, x)`.\n",
    "\n",
    "`Softmax` - слой, соответствующий функции активации [softmax](https://ru.wikipedia.org/wiki/Softmax)\n",
    "\n",
    "\n",
    "#### Методы\n",
    "`forward(X)` - возвращает предсказанные для `X`. `X` может быть как вектором, так и батчем\n",
    "\n",
    "`backward(d)` - считает градиент при помощи обратного распространения ошибки. Возвращает новое значение `d`\n",
    "\n",
    "`update(alpha)` - обновляет веса (если необходимо) с заданой скоростью обучения"
   ]
  },
  {
   "cell_type": "code",
   "execution_count": 2,
   "metadata": {
    "id": "RWFLlHqaYbgC"
   },
   "outputs": [],
   "source": [
    "class Module:\n",
    "    \"\"\"\n",
    "    Абстрактный класс. Его менять не нужно.\n",
    "    \"\"\"\n",
    "    def forward(self, x):\n",
    "        raise NotImplementedError()\n",
    "    \n",
    "    def backward(self, d):\n",
    "        raise NotImplementedError()\n",
    "        \n",
    "    def update(self, alpha):\n",
    "        pass"
   ]
  },
  {
   "cell_type": "code",
   "execution_count": 3,
   "metadata": {
    "id": "aYS2gE4PYepZ"
   },
   "outputs": [],
   "source": [
    "class Linear(Module):\n",
    "    \"\"\"\n",
    "    Линейный полносвязный слой.\n",
    "    \"\"\"\n",
    "    def __init__(self, in_features: int, out_features: int):\n",
    "        \"\"\"\n",
    "        Parameters\n",
    "        ----------\n",
    "        in_features : int\n",
    "            Размер входа.\n",
    "        out_features : int \n",
    "            Размер выхода.\n",
    "    \n",
    "        Notes\n",
    "        -----\n",
    "        W и b инициализируются случайно.\n",
    "        \"\"\"\n",
    "        self._in_features = in_features\n",
    "        self._out_features = out_features\n",
    "        self._W = np.random.rand(in_features, out_features)\n",
    "        self._b = np.random.rand(out_features)\n",
    "    \n",
    "    def forward(self, x: np.ndarray) -> np.ndarray:\n",
    "        \"\"\"\n",
    "        Возвращает y = Wx + b.\n",
    "\n",
    "        Parameters\n",
    "        ----------\n",
    "        x : np.ndarray\n",
    "            Входной вектор или батч.\n",
    "            То есть, либо x вектор с in_features элементов,\n",
    "            либо матрица размерности (batch_size, in_features).\n",
    "    \n",
    "        Return\n",
    "        ------\n",
    "        y : np.ndarray\n",
    "            Выход после слоя.\n",
    "            Либо вектор с out_features элементами,\n",
    "            либо матрица размерности (batch_size, out_features)\n",
    "\n",
    "        \"\"\"\n",
    "        self._x = x\n",
    "        y = x @ self._W + self._b\n",
    "        return y\n",
    "    \n",
    "    def backward(self, d: np.ndarray) -> np.ndarray:\n",
    "        \"\"\"\n",
    "        Cчитает градиент при помощи обратного распространения ошибки.\n",
    "\n",
    "        Parameters\n",
    "        ----------\n",
    "        d : np.ndarray\n",
    "            Градиент.\n",
    "        Return\n",
    "        ------\n",
    "        np.ndarray\n",
    "            Новое значение градиента.\n",
    "        \"\"\"\n",
    "        self._dW = self._x.T @ d\n",
    "        self._db = d.reshape(-1, self._out_features).sum(axis=0)\n",
    "        return d @ self._W.T\n",
    "\n",
    "    def update(self, alpha: float) -> NoReturn:\n",
    "        \"\"\"\n",
    "        Обновляет W и b с заданной скоростью обучения.\n",
    "\n",
    "        Parameters\n",
    "        ----------\n",
    "        alpha : float\n",
    "            Скорость обучения.\n",
    "        \"\"\"\n",
    "        self._W -= alpha * self._dW\n",
    "        self._b -= alpha * self._db"
   ]
  },
  {
   "cell_type": "code",
   "execution_count": 4,
   "metadata": {
    "id": "94hkbnD1QuvG"
   },
   "outputs": [],
   "source": [
    "class ReLU(Module):\n",
    "    \"\"\"\n",
    "    Слой, соответствующий функции активации ReLU.\n",
    "    \"\"\"\n",
    "    def __init__(self):\n",
    "        pass\n",
    "    \n",
    "    def forward(self, x: np.ndarray) -> np.ndarray:\n",
    "        \"\"\"\n",
    "        Возвращает y = max(0, x).\n",
    "\n",
    "        Parameters\n",
    "        ----------\n",
    "        x : np.ndarray\n",
    "            Входной вектор или батч.\n",
    "    \n",
    "        Return\n",
    "        ------\n",
    "        y : np.ndarray\n",
    "            Выход после слоя (той же размерности, что и вход).\n",
    "\n",
    "        \"\"\"\n",
    "        self._x = x\n",
    "        y = np.maximum(0, x)\n",
    "        return y\n",
    "        \n",
    "    def backward(self, d) -> np.ndarray:\n",
    "        \"\"\"\n",
    "        Cчитает градиент при помощи обратного распространения ошибки.\n",
    "\n",
    "        Parameters\n",
    "        ----------\n",
    "        d : np.ndarray\n",
    "            Градиент.\n",
    "        Return\n",
    "        ------\n",
    "        np.ndarray\n",
    "            Новое значение градиента.\n",
    "        \"\"\"\n",
    "        _d = (self._x >= 0) * d\n",
    "        return _d\n",
    "        \n",
    "class Softmax(Module):\n",
    "    \"\"\"\n",
    "    Слой, соответствующий функции активации Softmax.\n",
    "    \"\"\"\n",
    "    def __init__(self):\n",
    "        pass\n",
    "        \n",
    "    def forward(self, x: np.ndarray) -> np.ndarray:\n",
    "        \"\"\"\n",
    "        Возвращает y = Softmax(x) (стабильная версия). \n",
    "        Возвращает корректный результат, если все входные значения имеют большой порядок.\n",
    "\n",
    "        Parameters\n",
    "        ----------\n",
    "        x : np.ndarray\n",
    "            Входной вектор или батч.\n",
    "    \n",
    "        Return\n",
    "        ------\n",
    "        y : np.ndarray\n",
    "            Выход после слоя (той же размерности, что и вход).\n",
    "\n",
    "        \"\"\"\n",
    "        self._x = x\n",
    "        shift = x - np.max(x, axis=len(x.shape)-1, keepdims=True)\n",
    "        exps = np.exp(shift)\n",
    "        y = exps / np.sum(exps, axis=len(x.shape)-1, keepdims=True)\n",
    "        return y\n",
    "\n",
    "        \n",
    "    def backward(self, pred: np.ndarray, y: np.ndarray) -> np.ndarray:\n",
    "        \"\"\"\n",
    "        Cчитает градиент при помощи обратного распространения ошибки, \n",
    "        учитывая CE в качестве функции ошибки.\n",
    "\n",
    "        Parameters\n",
    "        ----------\n",
    "        pred : np.ndarray\n",
    "            Вероятности.\n",
    "\n",
    "        y : np.ndarray\n",
    "            Вектор правильных классов.\n",
    "        Return\n",
    "        ------\n",
    "        np.ndarray\n",
    "            Новое значение градиента.\n",
    "        \"\"\"\n",
    "        T = np.zeros(pred.shape)\n",
    "        T[np.arange(pred.shape[0]), y] = 1 \n",
    "        return (pred - T)"
   ]
  },
  {
   "cell_type": "markdown",
   "metadata": {
    "id": "Rb_ip_h8QuvJ"
   },
   "source": [
    "### Задание 2 (2 балла)\n",
    "Теперь сделаем саму нейронную сеть.\n",
    "\n",
    "#### Методы\n",
    "`fit(X, y)` - обучает нейронную сеть заданное число эпох. В каждой эпохе необходимо использовать [cross-entropy loss](https://ml-cheatsheet.readthedocs.io/en/latest/loss_functions.html#cross-entropy) для обучения, а так же производить обновления не по одному элементу, а используя батчи.\n",
    "\n",
    "`predict_proba(X)` - предсказывает вероятности классов для элементов `X`\n",
    "\n",
    "#### Параметры конструктора\n",
    "`modules` - список, состоящий из ранее реализованных модулей и описывающий слои нейронной сети. В конец необходимо добавить `Softmax`\n",
    "\n",
    "`epochs` - количество эпох обучения\n",
    "\n",
    "`alpha` - скорость обучения"
   ]
  },
  {
   "cell_type": "code",
   "execution_count": 5,
   "metadata": {
    "id": "Q_JFCizKQuvK"
   },
   "outputs": [],
   "source": [
    "class MLPClassifier:\n",
    "    def __init__(self, modules: List[Module], epochs: int = 40, alpha: float = 0.01):\n",
    "        \"\"\"\n",
    "        Parameters\n",
    "        ----------\n",
    "        modules : List[Module]\n",
    "            Cписок, состоящий из ранее реализованных модулей и \n",
    "            описывающий слои нейронной сети. \n",
    "            В конец необходимо добавить Softmax.\n",
    "        epochs : int\n",
    "            Количество эпох обученияю\n",
    "        alpha : float\n",
    "            Cкорость обучения.\n",
    "        \"\"\"\n",
    "        self._modules = modules.copy()\n",
    "        self._modules.append(Softmax())\n",
    "        self._epochs = epochs\n",
    "        self._alpha = alpha\n",
    "            \n",
    "    def fit(self, X: np.ndarray, y: np.ndarray, batch_size=32) -> NoReturn:\n",
    "        \"\"\"\n",
    "        Обучает нейронную сеть заданное число эпох. \n",
    "        В каждой эпохе необходимо использовать cross-entropy loss для обучения, \n",
    "        а так же производить обновления не по одному элементу, а используя батчи.\n",
    "\n",
    "        Parameters\n",
    "        ----------\n",
    "        X : np.ndarray\n",
    "            Данные для обучения.\n",
    "        y : np.ndarray\n",
    "            Вектор меток классов для данных.\n",
    "        batch_size : int\n",
    "            Размер батча.\n",
    "        \"\"\"\n",
    "\n",
    "        for epoch in range(self._epochs):\n",
    "            order = np.random.permutation(len(X))\n",
    "            \n",
    "            for start_index in range(0, len(X), batch_size):\n",
    "                batch_indexes = order[start_index:(start_index + batch_size)]\n",
    "                \n",
    "                X_batch = X[batch_indexes]\n",
    "                y_batch = y[batch_indexes]\n",
    "\n",
    "                pred = self.predict_proba(X_batch)\n",
    "                sm = self._modules[-1]\n",
    "                d = sm.backward(pred, y_batch)\n",
    "\n",
    "                for module in reversed(self._modules[:-1]):\n",
    "                    d = module.backward(d)\n",
    "                    module.update(self._alpha)\n",
    "        \n",
    "    def predict_proba(self, X: np.ndarray) -> np.ndarray:\n",
    "        \"\"\"\n",
    "        Предсказывает вероятности классов для элементов X.\n",
    "\n",
    "        Parameters\n",
    "        ----------\n",
    "        X : np.ndarray\n",
    "            Данные для предсказания.\n",
    "        \n",
    "        Return\n",
    "        ------\n",
    "        np.ndarray\n",
    "            Предсказанные вероятности классов для всех элементов X.\n",
    "            Размерность (X.shape[0], n_classes)\n",
    "        \n",
    "        \"\"\"\n",
    "        pred = X\n",
    "\n",
    "        for module in self._modules:\n",
    "            pred = module.forward(pred)\n",
    "\n",
    "        return pred\n",
    "        \n",
    "    def predict(self, X) -> np.ndarray:\n",
    "        \"\"\"\n",
    "        Предсказывает метки классов для элементов X.\n",
    "\n",
    "        Parameters\n",
    "        ----------\n",
    "        X : np.ndarray\n",
    "            Данные для предсказания.\n",
    "        \n",
    "        Return\n",
    "        ------\n",
    "        np.ndarray\n",
    "            Вектор предсказанных классов\n",
    "        \n",
    "        \"\"\"\n",
    "        p = self.predict_proba(X)\n",
    "        return np.argmax(p, axis=1)"
   ]
  },
  {
   "cell_type": "code",
   "execution_count": 6,
   "metadata": {
    "id": "onDymYQXQuvN"
   },
   "outputs": [],
   "source": [
    "p = MLPClassifier([\n",
    "    Linear(4, 64),\n",
    "    ReLU(),\n",
    "    Linear(64, 64),\n",
    "    ReLU(),\n",
    "    Linear(64, 2)\n",
    "])\n",
    "\n",
    "X = np.random.randn(50, 4)\n",
    "y = np.array([(0 if x[0] > x[2]**2 or x[3]**3 > 0.5 else 1) for x in X])\n",
    "p.fit(X, y)"
   ]
  },
  {
   "cell_type": "markdown",
   "metadata": {
    "id": "3C1EIsDqQuvQ"
   },
   "source": [
    "### Задание 3 (2 балла)\n",
    "Протестируем наше решение на синтетических данных. Необходимо подобрать гиперпараметры, при которых качество полученных классификаторов будет достаточным.\n",
    "\n",
    "#### Оценка\n",
    "Accuracy на первом датасете больше 0.85 - +1 балл\n",
    "\n",
    "Accuracy на втором датасете больше 0.85 - +1 балл"
   ]
  },
  {
   "cell_type": "code",
   "execution_count": 7,
   "metadata": {
    "colab": {
     "base_uri": "https://localhost:8080/"
    },
    "id": "d5UAgXTcQuvQ",
    "outputId": "b8b76309-9907-4347-ef87-13a7a283fe3d"
   },
   "outputs": [
    {
     "name": "stdout",
     "output_type": "stream",
     "text": [
      "Accuracy 1.0\n",
      "Worst accuracy 0.8725\n",
      "CPU times: user 1.33 s, sys: 804 µs, total: 1.33 s\n",
      "Wall time: 1.34 s\n"
     ]
    }
   ],
   "source": [
    "%%time\n",
    "np.random.seed(0)\n",
    "X, y = make_moons(400, noise=0.075)\n",
    "X_test, y_test = make_moons(400, noise=0.075)\n",
    "best_acc, worst_acc = 0, 1\n",
    "for _ in range(25):\n",
    "    p = MLPClassifier([\n",
    "        Linear(2, 4), \n",
    "        ReLU(), \n",
    "        Linear(4, 4),\n",
    "        ReLU(),\n",
    "        Linear(4, 2)])\n",
    "\n",
    "    p.fit(X, y)\n",
    "    mean_acc = np.mean(p.predict(X_test) == y_test)\n",
    "    best_acc = max(mean_acc, best_acc)\n",
    "    worst_acc = min(mean_acc, worst_acc)\n",
    "print(\"Accuracy\", best_acc)\n",
    "print(\"Worst accuracy\", worst_acc)"
   ]
  },
  {
   "cell_type": "code",
   "execution_count": 8,
   "metadata": {
    "colab": {
     "base_uri": "https://localhost:8080/"
    },
    "id": "MMDJM4qFQuvT",
    "outputId": "87dd01c7-1d8d-412d-b70a-45bbfbc18278"
   },
   "outputs": [
    {
     "name": "stdout",
     "output_type": "stream",
     "text": [
      "Accuracy 0.9475\n",
      "Worst accuracy 0.945\n",
      "CPU times: user 652 ms, sys: 0 ns, total: 652 ms\n",
      "Wall time: 657 ms\n"
     ]
    }
   ],
   "source": [
    "%%time\n",
    "np.random.seed(0)\n",
    "X, y = make_blobs(400, 2, centers=[[0, 0], [2.5, 2.5], [-2.5, 3]])\n",
    "X_test, y_test = make_blobs(400, 2, centers=[[0, 0], [2.5, 2.5], [-2.5, 3]])\n",
    "best_acc, worst_acc = 0, 1\n",
    "for _ in range(25):\n",
    "    p = MLPClassifier([\n",
    "        Linear(2, 3)])\n",
    "\n",
    "    p.fit(X, y)\n",
    "    mean_acc = np.mean(p.predict(X_test) == y_test)\n",
    "    best_acc = max(mean_acc, best_acc)\n",
    "    worst_acc = min(mean_acc, worst_acc)\n",
    "print(\"Accuracy\", best_acc)\n",
    "print(\"Worst accuracy\", worst_acc)"
   ]
  },
  {
   "cell_type": "markdown",
   "metadata": {
    "id": "nPbVTFnMQuvW"
   },
   "source": [
    "## PyTorch\n",
    "\n",
    "Для выполнения следующего задания понадобится PyTorch. [Инструкция по установке](https://pytorch.org/get-started/locally/)\n",
    "\n",
    "Если у вас нет GPU, то можно использовать [Google Colab](https://colab.research.google.com/)"
   ]
  },
  {
   "cell_type": "code",
   "execution_count": 9,
   "metadata": {
    "id": "tV0mJLu-QuvX"
   },
   "outputs": [],
   "source": [
    "from torchvision import datasets, transforms\n",
    "from torch.utils.data import DataLoader\n",
    "import torch\n",
    "from tqdm import tqdm\n",
    "from torch import nn\n",
    "import torch.nn.functional as F\n",
    "import matplotlib.pyplot as plt"
   ]
  },
  {
   "cell_type": "code",
   "execution_count": 10,
   "metadata": {
    "colab": {
     "base_uri": "https://localhost:8080/"
    },
    "id": "3CLMdTAEchtu",
    "outputId": "d87aec3d-5564-48ff-c298-66a8b899d06b"
   },
   "outputs": [
    {
     "name": "stdout",
     "output_type": "stream",
     "text": [
      "Is cuda available: True\n"
     ]
    }
   ],
   "source": [
    "print(f'Is cuda available: {torch.cuda.is_available()}')"
   ]
  },
  {
   "cell_type": "code",
   "execution_count": 11,
   "metadata": {
    "colab": {
     "base_uri": "https://localhost:8080/",
     "height": 100,
     "referenced_widgets": [
      "9cccb819584b4a00a42b96ec9892c3a0",
      "9ed3e029725a4f40bf3ea8c54f935845",
      "2d10d585aea64594a4e1762e7f496c51",
      "a9ddd0d9434149c8bee73119461b4245",
      "3e158be5c1d44cdc8e789b41e1464dce",
      "0bc4dd5d72f14ebd919088bf14e7be9f",
      "e6a52a706d7d4883a925e64ecc02feba",
      "c7c3937175394e959768e59bf1a3153e"
     ]
    },
    "id": "VUC_QqpAQuva",
    "outputId": "6af67dc4-5319-4b9a-fd27-2b0fb7e8aa3d"
   },
   "outputs": [
    {
     "name": "stdout",
     "output_type": "stream",
     "text": [
      "Downloading https://www.cs.toronto.edu/~kriz/cifar-10-python.tar.gz to datasets/cifar10/cifar-10-python.tar.gz\n"
     ]
    },
    {
     "data": {
      "application/vnd.jupyter.widget-view+json": {
       "model_id": "9cccb819584b4a00a42b96ec9892c3a0",
       "version_major": 2,
       "version_minor": 0
      },
      "text/plain": [
       "HBox(children=(FloatProgress(value=1.0, bar_style='info', max=1.0), HTML(value='')))"
      ]
     },
     "metadata": {
      "tags": []
     },
     "output_type": "display_data"
    },
    {
     "name": "stdout",
     "output_type": "stream",
     "text": [
      "Extracting datasets/cifar10/cifar-10-python.tar.gz to datasets/cifar10\n",
      "Files already downloaded and verified\n"
     ]
    }
   ],
   "source": [
    "device = torch.device(\"cuda\" if torch.cuda.is_available() else \"cpu\")\n",
    "\n",
    "t = transforms.ToTensor()\n",
    "\n",
    "cifar_train = datasets.CIFAR10(\"datasets/cifar10\", download=True, train=True, transform=t)\n",
    "train_loader = DataLoader(cifar_train, batch_size=1024, shuffle=True, pin_memory=torch.cuda.is_available())\n",
    "cifar_test = datasets.CIFAR10(\"datasets/cifar10\", download=True, train=False, transform=t)\n",
    "test_loader = DataLoader(cifar_test, batch_size=1024, shuffle=False, pin_memory=torch.cuda.is_available())"
   ]
  },
  {
   "cell_type": "markdown",
   "metadata": {
    "id": "rGmpjcFfQuvd"
   },
   "source": [
    "### Задание 4 (3 балла)\n",
    "А теперь поработам с настоящими нейронными сетями и настоящими данными. Необходимо реализовать сверточную нейронную сеть, которая будет классифицировать изображения из датасета CIFAR10. Имплементируйте класс `Model` и функцию `calculate_loss`. \n",
    "\n",
    "Обратите внимание, что `Model` должна считать в конце `softmax`, т.к. мы решаем задачу классификации. Соответствеено, функция `calculate_loss` считает cross-entropy.\n",
    "\n",
    "Для успешного выполнения задания необходимо, чтобы `accuracy`, `mean precision` и `mean recall` были больше 0.5\n",
    "\n",
    "__Можно пользоваться всем содержимым библиотеки PyTorch.__"
   ]
  },
  {
   "cell_type": "code",
   "execution_count": 12,
   "metadata": {
    "id": "5sRmTKwKQuve"
   },
   "outputs": [],
   "source": [
    "class Model(nn.Module):\n",
    "    def __init__(self):\n",
    "        super().__init__()\n",
    "\n",
    "        self.conv1 = nn.Conv2d(in_channels=3, out_channels=16, kernel_size=5, padding=2) # 3 x 32 x 32 ---> 16 x 32 x 32\n",
    "        self.act1 = nn.ReLU()\n",
    "        self.pool1 = nn.MaxPool2d(kernel_size=2, stride=2) # 16 x 32 x 32 ---> 16 x 16 x 16\n",
    "\n",
    "        self.conv2 = nn.Conv2d(in_channels=16, out_channels=20, kernel_size=5, padding=2) # 16 x 16 x 16 ---> 20 x 16 x 16\n",
    "        self.act2 = nn.ReLU()\n",
    "        self.pool2 = nn.MaxPool2d(kernel_size=2, stride=2) # 20 x 16 x 16 ---> 20 x 8 x 8\n",
    "\n",
    "        self.conv3 = nn.Conv2d(in_channels=20, out_channels=20, kernel_size=5, padding=2) # 20 x 8 x 8 ---> 20 x 8 x 8\n",
    "        self.act3 = nn.ReLU()\n",
    "        self.pool3 = nn.MaxPool2d(kernel_size=2, stride=2) # 20 x 8 x 8 ---> 20 x 4 x 4\n",
    "\n",
    "        self.fc1 = nn.Linear(20 * 4 * 4, 120)\n",
    "        self.act4 = nn.ReLU()\n",
    "\n",
    "        self.fc2 = nn.Linear(120, 84)\n",
    "        self.act5 = nn.ReLU()\n",
    "\n",
    "        self.fc3 = nn.Linear(84, 10)\n",
    "        self.act6 = nn.Softmax()\n",
    "        \n",
    "    def forward(self, x: torch.Tensor) -> torch.Tensor:\n",
    "        x = self.conv1(x)\n",
    "        x = self.act1(x)\n",
    "        x = self.pool1(x)\n",
    "\n",
    "        x = self.conv2(x)\n",
    "        x = self.act2(x)\n",
    "        x = self.pool2(x)\n",
    "\n",
    "        x = self.conv3(x)\n",
    "        x = self.act3(x)\n",
    "        x = self.pool3(x)\n",
    "\n",
    "        x = x.view(x.size(0), x.size(1) * x.size(2) * x.size(3))\n",
    "\n",
    "        x = self.fc1(x)\n",
    "        x = self.act4(x)\n",
    "        x = self.fc2(x)\n",
    "        x = self.act5(x)\n",
    "        x = self.fc3(x)\n",
    "        x = self.act6(x)\n",
    "\n",
    "        return x\n",
    "        \n",
    "def calculate_loss(X: torch.Tensor, y: torch.Tensor, model: Model):\n",
    "    \"\"\"\n",
    "    Cчитает cross-entropy.\n",
    "\n",
    "    Parameters\n",
    "    ----------\n",
    "    X : torch.Tensor\n",
    "        Данные для обучения.\n",
    "    y : torch.Tensor\n",
    "        Метки классов.\n",
    "    model : Model\n",
    "        Модель, которую будем обучать.\n",
    "\n",
    "    \"\"\"\n",
    "    N = len(X)\n",
    "    pred = model.forward(X)\n",
    "    CE = -torch.sum((torch.log(pred[np.arange(N), y]))) / N\n",
    "    return CE"
   ]
  },
  {
   "cell_type": "markdown",
   "metadata": {
    "id": "JAsLmkUqQuvh"
   },
   "source": [
    "Теперь обучим нашу модель. Для этого используем ранее созданные batch loader'ы."
   ]
  },
  {
   "cell_type": "code",
   "execution_count": 13,
   "metadata": {
    "id": "k5G8iMCeQuvh"
   },
   "outputs": [],
   "source": [
    "def train(model, epochs=100):\n",
    "    optimizer = torch.optim.Adam(model.parameters())\n",
    "    train_losses = []\n",
    "    test_losses = []\n",
    "    for i in range(epochs):\n",
    "        #Train\n",
    "        loss_mean = 0\n",
    "        elements = 0\n",
    "        for X, y in iter(train_loader):\n",
    "            X = X.to(device)\n",
    "            y = y.to(device)\n",
    "            loss = calculate_loss(X, y, model)\n",
    "            optimizer.zero_grad()\n",
    "            loss.backward()\n",
    "            optimizer.step()\n",
    "            loss_mean += loss.item() * len(X)\n",
    "            elements += len(X)\n",
    "        train_losses.append(loss_mean / elements)\n",
    "        #Test\n",
    "        loss_mean = 0 \n",
    "        elements = 0\n",
    "        for X, y in iter(test_loader):\n",
    "            X = X.to(device)\n",
    "            y = y.to(device)\n",
    "            loss = calculate_loss(X, y, model)\n",
    "            loss_mean += loss.item() * len(X)\n",
    "            elements += len(X)\n",
    "        test_losses.append(loss_mean / elements)\n",
    "        print(\"Epoch\", i, \"| Train loss\", train_losses[-1], \"| Test loss\", test_losses[-1])\n",
    "    return train_losses, test_losses"
   ]
  },
  {
   "cell_type": "code",
   "execution_count": 14,
   "metadata": {
    "colab": {
     "base_uri": "https://localhost:8080/"
    },
    "id": "vmD9eWJOQuvl",
    "outputId": "2f1d9d2a-537d-4be7-f611-5f9a1267faad",
    "scrolled": true
   },
   "outputs": [
    {
     "name": "stderr",
     "output_type": "stream",
     "text": [
      "/usr/local/lib/python3.6/dist-packages/ipykernel_launcher.py:46: UserWarning: Implicit dimension choice for softmax has been deprecated. Change the call to include dim=X as an argument.\n"
     ]
    },
    {
     "name": "stdout",
     "output_type": "stream",
     "text": [
      "Epoch 0 | Train loss 2.1433326528167727 | Test loss 2.0002363872528077\n",
      "Epoch 1 | Train loss 1.944528342475891 | Test loss 1.8299477737426757\n",
      "Epoch 2 | Train loss 1.789583053779602 | Test loss 1.7550458715438844\n",
      "Epoch 3 | Train loss 1.7161148612976074 | Test loss 1.6548862880706787\n",
      "Epoch 4 | Train loss 1.6513910135269165 | Test loss 1.6101477666854858\n",
      "Epoch 5 | Train loss 1.602454947090149 | Test loss 1.5675082401275635\n",
      "Epoch 6 | Train loss 1.567196669998169 | Test loss 1.5273263872146607\n",
      "Epoch 7 | Train loss 1.5279706916046143 | Test loss 1.5022759048461913\n",
      "Epoch 8 | Train loss 1.486991219482422 | Test loss 1.50316405544281\n",
      "Epoch 9 | Train loss 1.462068252105713 | Test loss 1.4533114330291748\n",
      "Epoch 10 | Train loss 1.4273173779678345 | Test loss 1.4150530408859252\n",
      "Epoch 11 | Train loss 1.4081505514907837 | Test loss 1.3773654350280762\n",
      "Epoch 12 | Train loss 1.3814138073348998 | Test loss 1.3874122564315796\n",
      "Epoch 13 | Train loss 1.357576201019287 | Test loss 1.339943318939209\n",
      "Epoch 14 | Train loss 1.3368255076217652 | Test loss 1.3255741266250611\n",
      "Epoch 15 | Train loss 1.3331621604537964 | Test loss 1.3228651386260986\n",
      "Epoch 16 | Train loss 1.3070597270202637 | Test loss 1.2911498474121095\n",
      "Epoch 17 | Train loss 1.2820033110046387 | Test loss 1.2825721729278565\n",
      "Epoch 18 | Train loss 1.2654889155960083 | Test loss 1.2973032295227052\n",
      "Epoch 19 | Train loss 1.2392914459991455 | Test loss 1.2490753747940064\n",
      "Epoch 20 | Train loss 1.225187087249756 | Test loss 1.2323438199996948\n",
      "Epoch 21 | Train loss 1.2120762086105348 | Test loss 1.2229880815505982\n",
      "Epoch 22 | Train loss 1.1944427806854248 | Test loss 1.1939485166549684\n",
      "Epoch 23 | Train loss 1.171583628768921 | Test loss 1.2143464309692382\n",
      "Epoch 24 | Train loss 1.1693143711471559 | Test loss 1.2135350137710572\n",
      "Epoch 25 | Train loss 1.1424780224990845 | Test loss 1.2215575862884522\n",
      "Epoch 26 | Train loss 1.1272268078613281 | Test loss 1.161868097114563\n",
      "Epoch 27 | Train loss 1.1125045322799683 | Test loss 1.1792409103393555\n",
      "Epoch 28 | Train loss 1.1105679169845581 | Test loss 1.1648471200942994\n",
      "Epoch 29 | Train loss 1.0993662481689452 | Test loss 1.1462244548797607\n",
      "Epoch 30 | Train loss 1.076391463279724 | Test loss 1.1162766660690309\n",
      "Epoch 31 | Train loss 1.0792630576324462 | Test loss 1.1002030988693237\n",
      "Epoch 32 | Train loss 1.0661479341888427 | Test loss 1.097456262779236\n",
      "Epoch 33 | Train loss 1.0443872413253785 | Test loss 1.0830598775863647\n",
      "Epoch 34 | Train loss 1.0339797658157348 | Test loss 1.1153140644073487\n",
      "Epoch 35 | Train loss 1.0229958029937745 | Test loss 1.0768020627975463\n",
      "Epoch 36 | Train loss 1.0265774396133422 | Test loss 1.086729708480835\n",
      "Epoch 37 | Train loss 1.0090534149742127 | Test loss 1.0621855657577515\n",
      "Epoch 38 | Train loss 0.9895846490478516 | Test loss 1.0733804779052734\n",
      "Epoch 39 | Train loss 0.9820645953750611 | Test loss 1.0566208263397217\n",
      "Epoch 40 | Train loss 0.976620219707489 | Test loss 1.0575590408325195\n",
      "Epoch 41 | Train loss 0.9722245523834229 | Test loss 1.077883076095581\n",
      "Epoch 42 | Train loss 0.9578455911636352 | Test loss 1.0377267410278321\n",
      "Epoch 43 | Train loss 0.9540204587936402 | Test loss 1.0465264616012573\n",
      "Epoch 44 | Train loss 0.9429391522979736 | Test loss 1.0372882528305054\n",
      "Epoch 45 | Train loss 0.9370406871604919 | Test loss 1.033357096862793\n",
      "Epoch 46 | Train loss 0.9346462868881226 | Test loss 1.0206197895050049\n",
      "Epoch 47 | Train loss 0.9133099143600464 | Test loss 1.0310556573867797\n",
      "Epoch 48 | Train loss 0.9116811186408996 | Test loss 1.008413233566284\n",
      "Epoch 49 | Train loss 0.9033337944030762 | Test loss 0.9953769794464111\n",
      "Epoch 50 | Train loss 0.9020901749610901 | Test loss 1.0026677757263183\n",
      "Epoch 51 | Train loss 0.9010232831001281 | Test loss 0.9966953886032105\n",
      "Epoch 52 | Train loss 0.8848261774635315 | Test loss 1.0186645441055298\n",
      "Epoch 53 | Train loss 0.888667724647522 | Test loss 1.013036432647705\n",
      "Epoch 54 | Train loss 0.8713006265068054 | Test loss 1.038833858680725\n",
      "Epoch 55 | Train loss 0.8680523206520081 | Test loss 0.9860329635620118\n",
      "Epoch 56 | Train loss 0.8667191979789733 | Test loss 0.9909841176986695\n",
      "Epoch 57 | Train loss 0.8636220635414124 | Test loss 1.0328137104034423\n",
      "Epoch 58 | Train loss 0.8532764429473877 | Test loss 0.99767550907135\n",
      "Epoch 59 | Train loss 0.8372556113624573 | Test loss 0.9761662811279297\n",
      "Epoch 60 | Train loss 0.8327342999267578 | Test loss 0.9967071323394775\n",
      "Epoch 61 | Train loss 0.8282829019355774 | Test loss 0.9951320461273193\n",
      "Epoch 62 | Train loss 0.8220933018875122 | Test loss 1.0233731101989747\n",
      "Epoch 63 | Train loss 0.8118814000320435 | Test loss 0.9651928895950317\n",
      "Epoch 64 | Train loss 0.8074267907714844 | Test loss 0.9547864057540894\n",
      "Epoch 65 | Train loss 0.8011242787361145 | Test loss 0.9691208126068115\n",
      "Epoch 66 | Train loss 0.8075495421218872 | Test loss 0.9534777621269226\n",
      "Epoch 67 | Train loss 0.7812937677192688 | Test loss 0.9584373756408692\n",
      "Epoch 68 | Train loss 0.7878818259048462 | Test loss 0.9466463315963745\n",
      "Epoch 69 | Train loss 0.7816226141548157 | Test loss 0.9977306228637696\n",
      "Epoch 70 | Train loss 0.7738065561103821 | Test loss 0.9412728183746338\n",
      "Epoch 71 | Train loss 0.7669799762153625 | Test loss 0.9421072693824768\n",
      "Epoch 72 | Train loss 0.777169107837677 | Test loss 0.9561751456260681\n",
      "Epoch 73 | Train loss 0.7529808969497681 | Test loss 0.9579883464813232\n",
      "Epoch 74 | Train loss 0.7658375689125061 | Test loss 0.9817754145622254\n",
      "Epoch 75 | Train loss 0.7697167681884766 | Test loss 0.9637053863525391\n",
      "Epoch 76 | Train loss 0.741294956111908 | Test loss 0.9345631532669068\n",
      "Epoch 77 | Train loss 0.736043303527832 | Test loss 0.9303432069778442\n",
      "Epoch 78 | Train loss 0.7425824890327454 | Test loss 0.9685425539970398\n",
      "Epoch 79 | Train loss 0.7283130443572998 | Test loss 0.9923683536529541\n",
      "Epoch 80 | Train loss 0.7249672145462036 | Test loss 0.9317220204353333\n",
      "Epoch 81 | Train loss 0.715434847278595 | Test loss 0.9392228242874145\n",
      "Epoch 82 | Train loss 0.7076234593009949 | Test loss 0.9440195222854614\n",
      "Epoch 83 | Train loss 0.7104520580101014 | Test loss 0.9581764766693115\n",
      "Epoch 84 | Train loss 0.7020570838356018 | Test loss 0.9434374388694763\n",
      "Epoch 85 | Train loss 0.7035757672119141 | Test loss 0.9430478619575501\n",
      "Epoch 86 | Train loss 0.6893699818801879 | Test loss 0.9258475005149841\n",
      "Epoch 87 | Train loss 0.692732660369873 | Test loss 0.9573650997161866\n",
      "Epoch 88 | Train loss 0.6899104277038575 | Test loss 0.980854965209961\n",
      "Epoch 89 | Train loss 0.6938008347511292 | Test loss 0.9610047260284423\n",
      "Epoch 90 | Train loss 0.6782713164329529 | Test loss 0.9406779227256775\n",
      "Epoch 91 | Train loss 0.6742235381698608 | Test loss 0.9450806429862976\n",
      "Epoch 92 | Train loss 0.6686029443359375 | Test loss 0.9360297059059143\n",
      "Epoch 93 | Train loss 0.6648616225433349 | Test loss 0.9334540794372559\n",
      "Epoch 94 | Train loss 0.6715030046844482 | Test loss 0.9305992740631104\n",
      "Epoch 95 | Train loss 0.6509880914497376 | Test loss 0.9488637617111206\n",
      "Epoch 96 | Train loss 0.6592586720275879 | Test loss 0.972123965549469\n",
      "Epoch 97 | Train loss 0.6614230252456665 | Test loss 0.9352848184585572\n",
      "Epoch 98 | Train loss 0.6310165518760681 | Test loss 0.9338729482650757\n",
      "Epoch 99 | Train loss 0.6308237387466431 | Test loss 0.9411872541427613\n",
      "CPU times: user 12min 4s, sys: 1min 23s, total: 13min 27s\n",
      "Wall time: 13min 33s\n"
     ]
    }
   ],
   "source": [
    "%%time\n",
    "model = Model().to(device)\n",
    "train_l, test_l = train(model)"
   ]
  },
  {
   "cell_type": "markdown",
   "metadata": {
    "id": "OJNAuHjNQuvn"
   },
   "source": [
    "Построим график функции потерь"
   ]
  },
  {
   "cell_type": "code",
   "execution_count": 16,
   "metadata": {
    "colab": {
     "base_uri": "https://localhost:8080/",
     "height": 441
    },
    "id": "F6OEGqriQuvo",
    "outputId": "c63ee975-3159-4d56-d2a4-5adde3019712"
   },
   "outputs": [
    {
     "data": {
      "image/png": "[encoded data removed]",
      "text/plain": [
       "<Figure size 864x432 with 1 Axes>"
      ]
     },
     "metadata": {
      "needs_background": "light",
      "tags": []
     },
     "output_type": "display_data"
    }
   ],
   "source": [
    "plt.figure(figsize=(12, 6))\n",
    "plt.plot(range(len(train_l)), train_l, label=\"train\")\n",
    "plt.plot(range(len(test_l)), test_l, label=\"test\")\n",
    "plt.xlabel(\"Epoch\")\n",
    "plt.ylabel(\"Loss\")\n",
    "plt.legend()\n",
    "plt.tight_layout()\n",
    "plt.show()"
   ]
  },
  {
   "cell_type": "markdown",
   "metadata": {
    "id": "miUxg0bDQuvs"
   },
   "source": [
    "И, наконец, посчитаем метрики"
   ]
  },
  {
   "cell_type": "code",
   "execution_count": 17,
   "metadata": {
    "colab": {
     "base_uri": "https://localhost:8080/"
    },
    "id": "UXSOJFI8Quvt",
    "outputId": "8a0e960d-ca78-4967-e48b-4196bb34fc26"
   },
   "outputs": [
    {
     "name": "stderr",
     "output_type": "stream",
     "text": [
      "/usr/local/lib/python3.6/dist-packages/ipykernel_launcher.py:46: UserWarning: Implicit dimension choice for softmax has been deprecated. Change the call to include dim=X as an argument.\n"
     ]
    },
    {
     "name": "stdout",
     "output_type": "stream",
     "text": [
      "Overall accuracy 0.6878\n",
      "Precision [0.71455939 0.82531381 0.56231884 0.46636364 0.65084388 0.5565371\n",
      " 0.77582645 0.76033058 0.84865471 0.79101358]\n",
      "Recall [0.746 0.789 0.582 0.513 0.617 0.63  0.751 0.736 0.757 0.757]\n",
      "Mean Precision 0.6951761973208546\n",
      "Mean Recall 0.6878\n"
     ]
    }
   ],
   "source": [
    "true_positive = np.zeros(10)\n",
    "true_negative = np.zeros(10)\n",
    "false_positive = np.zeros(10)\n",
    "false_negative = np.zeros(10)\n",
    "accuracy = 0\n",
    "ctn = 0\n",
    "for X, y in iter(test_loader):\n",
    "    X = X.to(device)\n",
    "    y = y.to(device)\n",
    "    with torch.no_grad():\n",
    "        y_pred = model(X).max(dim=1)[1]\n",
    "    for i in range(10):\n",
    "        for pred, real in zip(y_pred, y):\n",
    "            if real == i:\n",
    "                if pred == real:\n",
    "                    true_positive[i] += 1\n",
    "                else:\n",
    "                    false_negative[i] += 1\n",
    "            else:\n",
    "                if pred == i:\n",
    "                    false_positive[i] += 1\n",
    "                else:\n",
    "                    true_negative[i] += 1\n",
    "            \n",
    "    accuracy += torch.sum(y_pred == y).item()\n",
    "    ctn += len(y)\n",
    "print(\"Overall accuracy\", accuracy / ctn)\n",
    "print(\"Precision\", true_positive / (true_positive + false_positive))\n",
    "print(\"Recall\", true_positive / (true_positive + false_negative))\n",
    "print(\"Mean Precision\", np.mean(true_positive / (true_positive + false_positive)))\n",
    "print(\"Mean Recall\", np.mean(true_positive / (true_positive + false_negative)))"
   ]
  }
 ],
 "metadata": {
  "accelerator": "GPU",
  "colab": {
   "collapsed_sections": [],
   "name": "hw05_task_SushentsevDS.ipynb",
   "provenance": []
  },
  "kernelspec": {
   "display_name": "Python 3",
   "language": "python",
   "name": "python3"
  },
  "language_info": {
   "codemirror_mode": {
    "name": "ipython",
    "version": 3
   },
   "file_extension": ".py",
   "mimetype": "text/x-python",
   "name": "python",
   "nbconvert_exporter": "python",
   "pygments_lexer": "ipython3",
   "version": "3.8.5"
  },
  "widgets": {
   "application/vnd.jupyter.widget-state+json": {
    "0bc4dd5d72f14ebd919088bf14e7be9f": {
     "model_module": "@jupyter-widgets/base",
     "model_name": "LayoutModel",
     "state": {
      "_model_module": "@jupyter-widgets/base",
      "_model_module_version": "1.2.0",
      "_model_name": "LayoutModel",
      "_view_count": null,
      "_view_module": "@jupyter-widgets/base",
      "_view_module_version": "1.2.0",
      "_view_name": "LayoutView",
      "align_content": null,
      "align_items": null,
      "align_self": null,
      "border": null,
      "bottom": null,
      "display": null,
      "flex": null,
      "flex_flow": null,
      "grid_area": null,
      "grid_auto_columns": null,
      "grid_auto_flow": null,
      "grid_auto_rows": null,
      "grid_column": null,
      "grid_gap": null,
      "grid_row": null,
      "grid_template_areas": null,
      "grid_template_columns": null,
      "grid_template_rows": null,
      "height": null,
      "justify_content": null,
      "justify_items": null,
      "left": null,
      "margin": null,
      "max_height": null,
      "max_width": null,
      "min_height": null,
      "min_width": null,
      "object_fit": null,
      "object_position": null,
      "order": null,
      "overflow": null,
      "overflow_x": null,
      "overflow_y": null,
      "padding": null,
      "right": null,
      "top": null,
      "visibility": null,
      "width": null
     }
    },
    "2d10d585aea64594a4e1762e7f496c51": {
     "model_module": "@jupyter-widgets/controls",
     "model_name": "FloatProgressModel",
     "state": {
      "_dom_classes": [],
      "_model_module": "@jupyter-widgets/controls",
      "_model_module_version": "1.5.0",
      "_model_name": "FloatProgressModel",
      "_view_count": null,
      "_view_module": "@jupyter-widgets/controls",
      "_view_module_version": "1.5.0",
      "_view_name": "ProgressView",
      "bar_style": "info",
      "description": "",
      "description_tooltip": null,
      "layout": "IPY_MODEL_0bc4dd5d72f14ebd919088bf14e7be9f",
      "max": 1,
      "min": 0,
      "orientation": "horizontal",
      "style": "IPY_MODEL_3e158be5c1d44cdc8e789b41e1464dce",
      "value": 1
     }
    },
    "3e158be5c1d44cdc8e789b41e1464dce": {
     "model_module": "@jupyter-widgets/controls",
     "model_name": "ProgressStyleModel",
     "state": {
      "_model_module": "@jupyter-widgets/controls",
      "_model_module_version": "1.5.0",
      "_model_name": "ProgressStyleModel",
      "_view_count": null,
      "_view_module": "@jupyter-widgets/base",
      "_view_module_version": "1.2.0",
      "_view_name": "StyleView",
      "bar_color": null,
      "description_width": "initial"
     }
    },
    "9cccb819584b4a00a42b96ec9892c3a0": {
     "model_module": "@jupyter-widgets/controls",
     "model_name": "HBoxModel",
     "state": {
      "_dom_classes": [],
      "_model_module": "@jupyter-widgets/controls",
      "_model_module_version": "1.5.0",
      "_model_name": "HBoxModel",
      "_view_count": null,
      "_view_module": "@jupyter-widgets/controls",
      "_view_module_version": "1.5.0",
      "_view_name": "HBoxView",
      "box_style": "",
      "children": [
       "IPY_MODEL_2d10d585aea64594a4e1762e7f496c51",
       "IPY_MODEL_a9ddd0d9434149c8bee73119461b4245"
      ],
      "layout": "IPY_MODEL_9ed3e029725a4f40bf3ea8c54f935845"
     }
    },
    "9ed3e029725a4f40bf3ea8c54f935845": {
     "model_module": "@jupyter-widgets/base",
     "model_name": "LayoutModel",
     "state": {
      "_model_module": "@jupyter-widgets/base",
      "_model_module_version": "1.2.0",
      "_model_name": "LayoutModel",
      "_view_count": null,
      "_view_module": "@jupyter-widgets/base",
      "_view_module_version": "1.2.0",
      "_view_name": "LayoutView",
      "align_content": null,
      "align_items": null,
      "align_self": null,
      "border": null,
      "bottom": null,
      "display": null,
      "flex": null,
      "flex_flow": null,
      "grid_area": null,
      "grid_auto_columns": null,
      "grid_auto_flow": null,
      "grid_auto_rows": null,
      "grid_column": null,
      "grid_gap": null,
      "grid_row": null,
      "grid_template_areas": null,
      "grid_template_columns": null,
      "grid_template_rows": null,
      "height": null,
      "justify_content": null,
      "justify_items": null,
      "left": null,
      "margin": null,
      "max_height": null,
      "max_width": null,
      "min_height": null,
      "min_width": null,
      "object_fit": null,
      "object_position": null,
      "order": null,
      "overflow": null,
      "overflow_x": null,
      "overflow_y": null,
      "padding": null,
      "right": null,
      "top": null,
      "visibility": null,
      "width": null
     }
    },
    "a9ddd0d9434149c8bee73119461b4245": {
     "model_module": "@jupyter-widgets/controls",
     "model_name": "HTMLModel",
     "state": {
      "_dom_classes": [],
      "_model_module": "@jupyter-widgets/controls",
      "_model_module_version": "1.5.0",
      "_model_name": "HTMLModel",
      "_view_count": null,
      "_view_module": "@jupyter-widgets/controls",
      "_view_module_version": "1.5.0",
      "_view_name": "HTMLView",
      "description": "",
      "description_tooltip": null,
      "layout": "IPY_MODEL_c7c3937175394e959768e59bf1a3153e",
      "placeholder": "​",
      "style": "IPY_MODEL_e6a52a706d7d4883a925e64ecc02feba",
      "value": " 170500096/? [00:19&lt;00:00, 52693879.32it/s]"
     }
    },
    "c7c3937175394e959768e59bf1a3153e": {
     "model_module": "@jupyter-widgets/base",
     "model_name": "LayoutModel",
     "state": {
      "_model_module": "@jupyter-widgets/base",
      "_model_module_version": "1.2.0",
      "_model_name": "LayoutModel",
      "_view_count": null,
      "_view_module": "@jupyter-widgets/base",
      "_view_module_version": "1.2.0",
      "_view_name": "LayoutView",
      "align_content": null,
      "align_items": null,
      "align_self": null,
      "border": null,
      "bottom": null,
      "display": null,
      "flex": null,
      "flex_flow": null,
      "grid_area": null,
      "grid_auto_columns": null,
      "grid_auto_flow": null,
      "grid_auto_rows": null,
      "grid_column": null,
      "grid_gap": null,
      "grid_row": null,
      "grid_template_areas": null,
      "grid_template_columns": null,
      "grid_template_rows": null,
      "height": null,
      "justify_content": null,
      "justify_items": null,
      "left": null,
      "margin": null,
      "max_height": null,
      "max_width": null,
      "min_height": null,
      "min_width": null,
      "object_fit": null,
      "object_position": null,
      "order": null,
      "overflow": null,
      "overflow_x": null,
      "overflow_y": null,
      "padding": null,
      "right": null,
      "top": null,
      "visibility": null,
      "width": null
     }
    },
    "e6a52a706d7d4883a925e64ecc02feba": {
     "model_module": "@jupyter-widgets/controls",
     "model_name": "DescriptionStyleModel",
     "state": {
      "_model_module": "@jupyter-widgets/controls",
      "_model_module_version": "1.5.0",
      "_model_name": "DescriptionStyleModel",
      "_view_count": null,
      "_view_module": "@jupyter-widgets/base",
      "_view_module_version": "1.2.0",
      "_view_name": "StyleView",
      "description_width": ""
     }
    }
   }
  }
 },
 "nbformat": 4,
 "nbformat_minor": 1
}
